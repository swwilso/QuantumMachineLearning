{
  "nbformat": 4,
  "nbformat_minor": 0,
  "metadata": {
    "colab": {
      "provenance": [],
      "authorship_tag": "ABX9TyNKnfRvmkV1DYYwZ2RFYL7A",
      "include_colab_link": true
    },
    "kernelspec": {
      "name": "python3",
      "display_name": "Python 3"
    },
    "language_info": {
      "name": "python"
    }
  },
  "cells": [
    {
      "cell_type": "markdown",
      "metadata": {
        "id": "view-in-github",
        "colab_type": "text"
      },
      "source": [
        "<a href=\"https://colab.research.google.com/github/swwilso/QuantumMachineLearning/blob/main/Cirq_Deutsch's_Algorithm.ipynb\" target=\"_parent\"><img src=\"https://colab.research.google.com/assets/colab-badge.svg\" alt=\"Open In Colab\"/></a>"
      ]
    },
    {
      "cell_type": "code",
      "source": [
        "import cirq\n",
        "from cirq import H, X, CNOT, measure\n",
        "import numpy as np\n",
        "import random"
      ],
      "metadata": {
        "id": "TnOS4tKi2o5_"
      },
      "execution_count": 2,
      "outputs": []
    },
    {
      "cell_type": "code",
      "source": [
        "def main():\n",
        "    # Choose qubits to use.\n",
        "    q0, q1 = cirq.LineQubit.range(2)\n",
        "    # Pick a secret 2-bit function and create a circuit to query the oracle.\n",
        "    secret_function = [random.randint(0, 1) for _ in range(2)]\n",
        "    oracle = moracle(q0, q1, secret_function)\n",
        "    print('Secret function:\\nf(x) = <{}>'.format(\n",
        "        ', '.join(str(e) for e in secret_function)))\n",
        "    # Embed the oracle into a quantum circuit querying it exactly once.\n",
        "    circuit = deutsch_circuit(q0, q1, oracle)\n",
        "    print('Circuit:')\n",
        "    print(circuit)\n",
        "    # Simulate the circuit.\n",
        "    simulator = cirq.Simulator()\n",
        "    result = simulator.run(circuit)\n",
        "    print('Result of f(0)⊕f(1):')\n",
        "    print(result)"
      ],
      "metadata": {
        "id": "EjhmsKYc22XV"
      },
      "execution_count": 3,
      "outputs": []
    },
    {
      "cell_type": "code",
      "source": [
        "def moracle(q0, q1, secret_function):\n",
        "    \"\"\" Gates implementing the secret function f(x).\"\"\"\n",
        "    # coverage: ignore\n",
        "    if secret_function[0]:\n",
        "        yield [CNOT(q0, q1), X(q1)]\n",
        "    if secret_function[1]:\n",
        "        yield CNOT(q0, q1)\n",
        "        \n",
        "def deutsch_circuit(q0, q1, oracle):\n",
        "    c = cirq.Circuit()\n",
        "    # Initialize qubits.\n",
        "    c.append([X(q1), H(q1), H(q0)])\n",
        "    # Query oracle.\n",
        "    c.append(oracle)\n",
        "    # Measure in X basis.\n",
        "    c.append([H(q0), measure(q0, key='result')])\n",
        "    return c"
      ],
      "metadata": {
        "id": "gFRPjFb9253S"
      },
      "execution_count": 4,
      "outputs": []
    },
    {
      "cell_type": "code",
      "source": [
        "if __name__ == '__main__':\n",
        "    main()"
      ],
      "metadata": {
        "colab": {
          "base_uri": "https://localhost:8080/"
        },
        "id": "WFC7j9Nu2_CE",
        "outputId": "db83cd5f-40d9-41e6-ff4a-e16d5149c870"
      },
      "execution_count": 5,
      "outputs": [
        {
          "output_type": "stream",
          "name": "stdout",
          "text": [
            "Secret function:\n",
            "f(x) = <0, 1>\n",
            "Circuit:\n",
            "0: ───H───────@───H───M('result')───\n",
            "              │\n",
            "1: ───X───H───X─────────────────────\n",
            "Result of f(0)⊕f(1):\n",
            "result=1\n"
          ]
        }
      ]
    }
  ]
}