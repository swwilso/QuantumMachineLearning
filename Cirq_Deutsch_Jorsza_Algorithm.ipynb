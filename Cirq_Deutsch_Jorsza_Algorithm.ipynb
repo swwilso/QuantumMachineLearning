{
  "nbformat": 4,
  "nbformat_minor": 0,
  "metadata": {
    "colab": {
      "provenance": [],
      "authorship_tag": "ABX9TyPFPBT3GZLZTHY3JkmqH3/i",
      "include_colab_link": true
    },
    "kernelspec": {
      "name": "python3",
      "display_name": "Python 3"
    },
    "language_info": {
      "name": "python"
    }
  },
  "cells": [
    {
      "cell_type": "markdown",
      "metadata": {
        "id": "view-in-github",
        "colab_type": "text"
      },
      "source": [
        "<a href=\"https://colab.research.google.com/github/swwilso/QuantumMachineLearning/blob/main/Cirq_Deutsch_Jorsza_Algorithm.ipynb\" target=\"_parent\"><img src=\"https://colab.research.google.com/assets/colab-badge.svg\" alt=\"Open In Colab\"/></a>"
      ]
    },
    {
      "cell_type": "code",
      "source": [
        "pip install cirq"
      ],
      "metadata": {
        "id": "AHLRPPz--pMQ"
      },
      "execution_count": null,
      "outputs": []
    },
    {
      "cell_type": "code",
      "execution_count": 1,
      "metadata": {
        "id": "gIho7yEW7uYI"
      },
      "outputs": [],
      "source": [
        "import cirq\n",
        "import numpy as np\n",
        "import matplotlib.pyplot as plt"
      ]
    },
    {
      "cell_type": "code",
      "source": [
        "# Define three qubits to use.\n",
        "q0, q1, q2 = cirq.LineQubit.range(3)\n",
        "# Define the operations to query each of the two constant functions.\n",
        "constant = (\n",
        "    [],\n",
        "    [cirq.X(q2)]\n",
        ")\n",
        "# Define the operations to query each of the six balanced functions.\n",
        "balanced = (\n",
        "    [cirq.CNOT(q0, q2)],\n",
        "    [cirq.CNOT(q1, q2)],\n",
        "    [cirq.CNOT(q0, q2), cirq.CNOT(q1, q2)],\n",
        "    [cirq.CNOT(q0, q2), cirq.X(q2)],\n",
        "    [cirq.CNOT(q1, q2), cirq.X(q2)],\n",
        "    [cirq.CNOT(q0, q2), cirq.CNOT(q1, q2), cirq.X(q2)]\n",
        ")"
      ],
      "metadata": {
        "id": "perQndZrBF8a"
      },
      "execution_count": 4,
      "outputs": []
    },
    {
      "cell_type": "code",
      "source": [
        "# Define a function\n",
        "def deJo_circuit(oracle):\n",
        "    # Phase kickback trick.\n",
        "    yield cirq.X(q2), cirq.H(q2)\n",
        "    # Get an equal superposition over input bits.\n",
        "    yield cirq.H(q0), cirq.H(q1)\n",
        "    # Query the function.\n",
        "    yield oracle\n",
        "    # Use interference to get result, put last qubit into |1>.\n",
        "    yield cirq.H(q0), cirq.H(q1), cirq.H(q2)\n",
        "    # Use a final OR gate to put result in final qubit.\n",
        "    yield cirq.X(q0), cirq.X(q1), cirq.CCX(q0, q1, q2)\n",
        "    yield cirq.measure(q2)"
      ],
      "metadata": {
        "id": "vTZjYxqXAx2m"
      },
      "execution_count": 2,
      "outputs": []
    },
    {
      "cell_type": "code",
      "source": [
        "simulator = cirq.Simulator()\n",
        "print(\"\\nResult on constant functions:\")\n",
        "for oracle in constant:\n",
        "    result = simulator.run(cirq.Circuit(deJo_circuit(oracle)), repetitions=10)\n",
        "    print(result)\n",
        "print(\"\\nResult on balanced functions:\")\n",
        "for oracle in balanced:\n",
        "    result = simulator.run(cirq.Circuit(deJo_circuit(oracle)), repetitions=10)\n",
        "    print(result)"
      ],
      "metadata": {
        "colab": {
          "base_uri": "https://localhost:8080/"
        },
        "id": "r3zE0OqUA2iW",
        "outputId": "3d165649-c5f4-41eb-fe37-7e38cb37960a"
      },
      "execution_count": 5,
      "outputs": [
        {
          "output_type": "stream",
          "name": "stdout",
          "text": [
            "\n",
            "Result on constant functions:\n",
            "q(2)=0000000000\n",
            "q(2)=0000000000\n",
            "\n",
            "Result on balanced functions:\n",
            "q(2)=1111111111\n",
            "q(2)=1111111111\n",
            "q(2)=1111111111\n",
            "q(2)=1111111111\n",
            "q(2)=1111111111\n",
            "q(2)=1111111111\n"
          ]
        }
      ]
    }
  ]
}